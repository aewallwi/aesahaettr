{
  "nbformat": 4,
  "nbformat_minor": 0,
  "metadata": {
    "kernelspec": {
      "display_name": "Python 3",
      "language": "python",
      "name": "python3"
    },
    "language_info": {
      "codemirror_mode": {
        "name": "ipython",
        "version": 3
      },
      "file_extension": ".py",
      "mimetype": "text/x-python",
      "name": "python",
      "nbconvert_exporter": "python",
      "pygments_lexer": "ipython3",
      "version": "3.8.5"
    },
    "colab": {
      "name": "tf_gradient_sandbox_cal_only_15_ants_GPU.ipynb",
      "private_outputs": true,
      "provenance": [],
      "include_colab_link": true
    },
    "accelerator": "GPU"
  },
  "cells": [
    {
      "cell_type": "markdown",
      "metadata": {
        "id": "view-in-github",
        "colab_type": "text"
      },
      "source": [
        "<a href=\"https://colab.research.google.com/github/aewallwi/aesahaettr/blob/main/notebooks/tf_gradient_sandbox_cal_only_15_ants_GPU.ipynb\" target=\"_parent\"><img src=\"https://colab.research.google.com/assets/colab-badge.svg\" alt=\"Open In Colab\"/></a>"
      ]
    },
    {
      "cell_type": "code",
      "metadata": {
        "id": "X5LfS5g8214W"
      },
      "source": [
        "gpu_info = !nvidia-smi\n",
        "gpu_info = '\\n'.join(gpu_info)\n",
        "if gpu_info.find('failed') >= 0:\n",
        "  print('Select the Runtime > \"Change runtime type\" menu to enable a GPU accelerator, ')\n",
        "  print('and then re-execute this cell.')\n",
        "else:\n",
        "  print(gpu_info)"
      ],
      "execution_count": null,
      "outputs": []
    },
    {
      "cell_type": "code",
      "metadata": {
        "ExecuteTime": {
          "end_time": "2021-05-24T04:53:31.924013Z",
          "start_time": "2021-05-24T04:53:31.920199Z"
        },
        "id": "vRZnUxJPOcTi"
      },
      "source": [
        "# uncomment and run to install aesahaettr library and dependencies.\n",
        "!pip install pyyaml==5.4.1\n",
        "!pip install git+https://github.com/aewallwi/aesahaettr.git "
      ],
      "execution_count": null,
      "outputs": []
    },
    {
      "cell_type": "code",
      "metadata": {
        "id": "nTS2d95qPn5i"
      },
      "source": [
        "import pygdsm"
      ],
      "execution_count": null,
      "outputs": []
    },
    {
      "cell_type": "code",
      "metadata": {
        "ExecuteTime": {
          "end_time": "2021-05-24T16:30:50.673446Z",
          "start_time": "2021-05-24T16:30:48.216263Z"
        },
        "id": "-ue26IymOcTk"
      },
      "source": [
        "from aesahaettr import calamity\n",
        "from aesahaettr import covariances\n",
        "from aesahaettr import visibilities\n",
        "from aesahaettr import visualization\n",
        "import copy\n",
        "import numpy as np\n",
        "import tensorflow as tf\n",
        "\n",
        "import matplotlib.pyplot as plt\n",
        "from IPython.display import display, HTML\n",
        "display(HTML(\"<style>.container { width:100% !important; }</style>\"))"
      ],
      "execution_count": null,
      "outputs": []
    },
    {
      "cell_type": "markdown",
      "metadata": {
        "id": "8MLR93hEOcTl"
      },
      "source": [
        "# Simultaneous Calibration Solutions"
      ]
    },
    {
      "cell_type": "code",
      "metadata": {
        "ExecuteTime": {
          "end_time": "2021-05-24T16:30:51.517291Z",
          "start_time": "2021-05-24T16:30:50.675052Z"
        },
        "id": "uqOeG8RGOcTm"
      },
      "source": [
        "from aesahaettr.data import DATA_PATH\n",
        "from pyuvdata import UVData\n",
        "import glob\n",
        "uvd_gsm = UVData()\n",
        "uvd_gsm.read_uvh5(glob.glob(DATA_PATH+'/simulations/*nant15*fg*.uvh5')[0])\n",
        "uvd_eor = UVData()\n",
        "uvd_eor.read_uvh5(glob.glob(DATA_PATH+'/simulations/*nant15*eor*.uvh5')[0])\n",
        "uvd_total=copy.deepcopy(uvd_gsm)\n",
        "uvd_total.data_array += uvd_eor.data_array"
      ],
      "execution_count": null,
      "outputs": []
    },
    {
      "cell_type": "code",
      "metadata": {
        "ExecuteTime": {
          "end_time": "2021-05-24T16:30:52.317063Z",
          "start_time": "2021-05-24T16:30:51.518957Z"
        },
        "id": "o_gpsXeQOcTm"
      },
      "source": [
        "fig, axarr = plt.subplots(1, 3)\n",
        "for i, uvt in enumerate([uvd_total, uvd_gsm, uvd_eor]):\n",
        "    plt.sca(axarr[i])\n",
        "    x, y, ctot = visualization.delay_transform_sort_by_baseline_length(uvt, window='cs11')\n",
        "    xg, yg = np.meshgrid(x, y)\n",
        "    plt.pcolor(xg, yg, np.log10(np.abs(ctot.T)), #extent = [x.min(), x.max(), y.max(), y.min()],\n",
        "               vmin=-2, vmax=np.log10(np.abs(uvd_total.data_array).max()), cmap='inferno')#, interpolation='nearest', aspect='auto', cmap='inferno')\n",
        "    plt.plot(x, x / .3, ls='--', color='w')\n",
        "    plt.plot(x, -x / .3, ls='--', color='w')\n",
        "\n",
        "    plt.xlabel('b (m)')\n",
        "    plt.ylabel('$\\\\tau$ (ns)')\n",
        "    plt.colorbar()\n",
        "    #plt.xlim(0, 500)\n",
        "    plt.ylim(-2000, 2000)\n",
        "    plt.xlim()\n",
        "fig.set_size_inches(18, 8)"
      ],
      "execution_count": null,
      "outputs": []
    },
    {
      "cell_type": "code",
      "metadata": {
        "ExecuteTime": {
          "end_time": "2021-05-24T16:30:55.460772Z",
          "start_time": "2021-05-24T16:30:55.456723Z"
        },
        "id": "hiOxTByXOcTn"
      },
      "source": [
        "import imp"
      ],
      "execution_count": null,
      "outputs": []
    },
    {
      "cell_type": "code",
      "metadata": {
        "ExecuteTime": {
          "end_time": "2021-05-24T16:31:32.485683Z",
          "start_time": "2021-05-24T16:30:56.055585Z"
        },
        "id": "WfnDB-d6OcTn"
      },
      "source": [
        "#evals, evecs = covariances.cov_mat_simple_evecs(uvdata=uvd_total, antenna_diameter=2., write_outputs=False, \n",
        "#                                               use_tensorflow=True,\n",
        "#                                                eigenval_cutoff=1e-10, antenna_chromaticity=2. / 3e8, compress_by_redundancy=False)\n",
        "#\n"
      ],
      "execution_count": null,
      "outputs": []
    },
    {
      "cell_type": "code",
      "metadata": {
        "id": "SfPQa497gly6"
      },
      "source": [
        "from google.colab import drive\n",
        "drive.mount('/content/drive')\n",
        "evecs = np.load('/content/drive/MyDrive/Datasets/aesahaettr/HERA-III_antenna_diameter2.0_fractional_spacing1.5_nant15_nf200_df200.000kHz_f0150.000MHz_blc_inf_simple_cov_evecs_evalcut_-100.0dB.npz')['evecs']"
      ],
      "execution_count": null,
      "outputs": []
    },
    {
      "cell_type": "code",
      "metadata": {
        "ExecuteTime": {
          "end_time": "2021-05-24T16:31:57.827726Z",
          "start_time": "2021-05-24T16:31:57.819718Z"
        },
        "id": "tQ0Y0_r2OcTo"
      },
      "source": [
        "\n",
        "\n",
        "# initialize with true foreground coefficients\n",
        "# plus a perturbation.\n",
        "data = copy.deepcopy(uvd_total.data_array.squeeze()).reshape(uvd_total.Nbls * uvd_total.Nfreqs) \n",
        "mdata = np.mean(data) * 0\n",
        "data -= mdata\n",
        "rmsdata = np.sqrt(np.mean(np.abs(data) ** 2.))\n",
        "data /= rmsdata\n"
      ],
      "execution_count": null,
      "outputs": []
    },
    {
      "cell_type": "code",
      "metadata": {
        "ExecuteTime": {
          "end_time": "2021-05-24T16:31:58.454010Z",
          "start_time": "2021-05-24T16:31:58.389849Z"
        },
        "id": "EpyK3VvtOcTo"
      },
      "source": [
        "fg_coeffs_true = evecs.T @ data\n",
        "fg_coeffs = fg_coeffs_true\n",
        "fg_coeffs = fg_coeffs_true + .1 * fg_coeffs_true * (np.random.randn(len(fg_coeffs_true)))\n",
        "weights = tf.convert_to_tensor(np.ones(data.shape, dtype=np.float64))\n",
        "gains_real = np.ones((uvd_total.Nants_data, uvd_total.Nfreqs))\n",
        "gains_imag = np.zeros((uvd_total.Nants_data, uvd_total.Nfreqs))\n",
        "gains_real += .2 * np.random.randn(*gains_real.shape)\n",
        "gains_imag += .2 * np.random.randn(*gains_imag.shape)"
      ],
      "execution_count": null,
      "outputs": []
    },
    {
      "cell_type": "code",
      "metadata": {
        "ExecuteTime": {
          "end_time": "2021-05-24T16:31:59.400428Z",
          "start_time": "2021-05-24T16:31:59.280599Z"
        },
        "id": "WQFDW3TNOcTp"
      },
      "source": [
        "# generate fitting tensors\n",
        "\n",
        "# insert eigenvectors\n",
        "fg_basis = np.zeros((uvd_total.Nants_data, uvd_total.Nants_data, uvd_total.Nfreqs, len(fg_coeffs_true)))\n",
        "evecs_reshaped = [evecs[:, i].reshape(uvd_total.Nbls, uvd_total.Nfreqs).astype(np.float32) for i in range(evecs.shape[-1])]\n",
        "for fg_ind in range(len(fg_coeffs_true)):\n",
        "    for vind, (i, j) in enumerate(zip(uvd_total.ant_1_array, uvd_total.ant_2_array)):\n",
        "        fg_basis[i, j, :, fg_ind] = evecs_reshaped[fg_ind][vind]\n",
        "\n",
        "dfit_r = np.zeros((uvd_total.Nants_data, uvd_total.Nants_data, uvd_total.Nfreqs))\n",
        "dfit_i = np.zeros((uvd_total.Nants_data, uvd_total.Nants_data, uvd_total.Nfreqs))\n",
        "# insert data\n",
        "for vind, (i, j) in enumerate(zip(uvd_total.ant_1_array, uvd_total.ant_2_array)):\n",
        "    dfit_r[i, j] = uvd_total.data_array[vind, :].real.squeeze()\n",
        "    dfit_i[i, j] = uvd_total.data_array[vind, :].imag.squeeze()\n",
        "\n",
        "dfit_r -= mdata.real\n",
        "dfit_r /= rmsdata\n",
        "dfit_i -= mdata.imag\n",
        "dfit_i /= rmsdata\n"
      ],
      "execution_count": null,
      "outputs": []
    },
    {
      "cell_type": "code",
      "metadata": {
        "ExecuteTime": {
          "end_time": "2021-05-24T16:32:00.256494Z",
          "start_time": "2021-05-24T16:32:00.198458Z"
        },
        "id": "RL13yt8hOcTq"
      },
      "source": [
        "dtype_opt = np.float32\n",
        "dfit_r = tf.convert_to_tensor(dfit_r, dtype=dtype_opt)\n",
        "dfit_i = tf.convert_to_tensor(dfit_i, dtype=dtype_opt)\n",
        "fg_basis = tf.convert_to_tensor(fg_basis, dtype=dtype_opt)\n",
        "gr = tf.Variable(tf.convert_to_tensor(gains_real, dtype=dtype_opt))\n",
        "gi = tf.Variable(tf.convert_to_tensor(gains_imag, dtype=dtype_opt))\n",
        "fg_r = tf.Variable(tf.convert_to_tensor(fg_coeffs.real, dtype=dtype_opt))\n",
        "fg_i = tf.Variable(tf.convert_to_tensor(fg_coeffs.imag, dtype=dtype_opt))"
      ],
      "execution_count": null,
      "outputs": []
    },
    {
      "cell_type": "code",
      "metadata": {
        "ExecuteTime": {
          "end_time": "2021-05-24T16:32:01.148572Z",
          "start_time": "2021-05-24T16:32:01.144314Z"
        },
        "id": "08eBC92XOcTq"
      },
      "source": [
        "correction_factor = uvd_total.Nants_data ** 2. / uvd_total.Nbls"
      ],
      "execution_count": null,
      "outputs": []
    },
    {
      "cell_type": "code",
      "metadata": {
        "ExecuteTime": {
          "end_time": "2021-05-24T16:32:01.663108Z",
          "start_time": "2021-05-24T16:32:01.656859Z"
        },
        "id": "JQ5YpDXkOcTq"
      },
      "source": [
        "correction_factor"
      ],
      "execution_count": null,
      "outputs": []
    },
    {
      "cell_type": "code",
      "metadata": {
        "ExecuteTime": {
          "end_time": "2021-05-24T16:32:01.988667Z",
          "start_time": "2021-05-24T16:32:01.974184Z"
        },
        "id": "BOY6CgSrOcTr"
      },
      "source": [
        "def cal_loss_weighted():\n",
        "    grgr = tf.einsum('ik,jk->ijk',gr, gr)\n",
        "    gigi = tf.einsum('ik,jk->ijk',gi, gi)\n",
        "    grgi = tf.einsum('ik,jk->ijk',gr, gi)\n",
        "    gigr = tf.einsum('ik,jk->ijk',gi, gr)\n",
        "    vr = tf.reduce_sum(fg_basis * fg_r, axis=3)\n",
        "    vi = tf.reduce_sum(fg_basis * fg_i, axis=3)\n",
        "    model_r = (grgr + gigi) * vr + (grgi - gigr) * vi\n",
        "    model_i = (gigr - grgi) * vr + (grgr + gigi) * vi\n",
        "    w_i = tf.square(tf.square(model_i))\n",
        "    w_r = tf.square(tf.square(model_r))\n",
        "    \n",
        "    return .5 * tf.reduce_sum(tf.square(dfit_r - model_r) * w_r) / tf.reduce_sum(w_r) + .5 * tf.reduce_sum(w_i * tf.square(dfit_i - model_i)) / tf.reduce_sum(w_i)\n",
        "\n",
        "def cal_loss_unweighted():\n",
        "    grgr = tf.einsum('ik,jk->ijk',gr, gr)\n",
        "    gigi = tf.einsum('ik,jk->ijk',gi, gi)\n",
        "    grgi = tf.einsum('ik,jk->ijk',gr, gi)\n",
        "    gigr = tf.einsum('ik,jk->ijk',gi, gr)\n",
        "    vr = tf.reduce_sum(fg_basis * fg_r, axis=3)\n",
        "    vi = tf.reduce_sum(fg_basis * fg_i, axis=3)\n",
        "    model_r = (grgr + gigi) * vr + (grgi - gigr) * vi\n",
        "    model_i = (gigr - grgi) * vr + (grgr + gigi) * vi\n",
        "    return tf.reduce_mean(tf.square(dfit_r - model_r) + tf.square(dfit_i - model_i))"
      ],
      "execution_count": null,
      "outputs": []
    },
    {
      "cell_type": "code",
      "metadata": {
        "ExecuteTime": {
          "end_time": "2021-05-24T16:32:03.089980Z",
          "start_time": "2021-05-24T16:32:03.085194Z"
        },
        "id": "xyPfyPXxOcTr"
      },
      "source": [
        "opt = tf.optimizers.Adamax(lr=1e-2)\n"
      ],
      "execution_count": null,
      "outputs": []
    },
    {
      "cell_type": "code",
      "metadata": {
        "ExecuteTime": {
          "end_time": "2021-05-24T16:32:20.330730Z",
          "start_time": "2021-05-24T16:32:15.771583Z"
        },
        "id": "7esIWgmgOcTs"
      },
      "source": [
        "%%timeit\n",
        "opt.minimize(cal_loss_unweighted, var_list=[fg_r, fg_i])"
      ],
      "execution_count": null,
      "outputs": []
    },
    {
      "cell_type": "code",
      "metadata": {
        "ExecuteTime": {
          "end_time": "2021-05-24T16:20:35.562079Z",
          "start_time": "2021-05-24T16:20:35.334888Z"
        },
        "id": "nX4DIfxVOcTs"
      },
      "source": [
        "var_history_real = [fg_r.numpy()]\n",
        "var_history_gr = [gr.numpy()]\n",
        "var_history_imag = [fg_i.numpy()]\n",
        "var_history_gi = [gi.numpy()]\n",
        "opt = tf.optimizers.Adamax(lr=1e-2)\n",
        "\n",
        "#loss_history_gains = [cal_loss_gains().numpy()]\n",
        "#loss_history_foregrounds = [cal_loss_foregrounds().numpy()]\n",
        "\n",
        "loss_history = [cal_loss_unweighted().numpy()]\n",
        "\n",
        "#opt.minimize(cal_loss_foregrounds, [fg_r, fg_i])\n",
        "#opt.minimize(cal_loss_gains, [gr, gi, fg_r, fg_i])\n",
        "\n",
        "opt.minimize(cal_loss_unweighted, [gr, gi, fg_r, fg_i])\n",
        "loss_history.append(cal_loss_unweighted())\n",
        "\n",
        "#delta_loss_f = np.abs(cal_loss_foregrounds().numpy() - loss_history_foregrounds[-1])\n",
        "#delta_loss_g = np.abs(cal_loss_gains().numpy() - loss_history_gains[-1])\n",
        "\n",
        "delta_loss = np.abs(loss_history[-1] - loss_history[-2])"
      ],
      "execution_count": null,
      "outputs": []
    },
    {
      "cell_type": "code",
      "metadata": {
        "ExecuteTime": {
          "end_time": "2021-05-24T16:25:08.193804Z",
          "start_time": "2021-05-24T16:23:20.894033Z"
        },
        "id": "d0z_7eRHOcTt"
      },
      "source": [
        "maxsteps = 10000\n",
        "tol = 1e-14 / correction_factor\n",
        "step = 0\n",
        "\n",
        "import tqdm\n",
        "for step in tqdm.tqdm(range(maxsteps)):\n",
        "    #opt.minimize(cal_loss_foregrounds, [fg_r, fg_i, gr, gi])\n",
        "    #opt.minimize(cal_loss_gains, [gr, gi, fg_r, fg_i])\n",
        "    opt.minimize(cal_loss_unweighted, [fg_r, fg_i, gr, gi])\n",
        "    var_history_real.append(fg_r.numpy())\n",
        "    var_history_imag.append(fg_i.numpy())\n",
        "    var_history_gr.append(gr.numpy())\n",
        "    var_history_gi.append(gi.numpy)\n",
        "    loss_history.append(cal_loss_unweighted())\n",
        "    delta_loss = np.abs(loss_history[-1] - loss_history[-2])\n",
        "    #loss_history_gains.append(cal_loss_gains().numpy())\n",
        "    #loss_history_foregrounds.append(cal_loss_foregrounds().numpy())\n",
        "    #delta_loss_f = np.abs(loss_history_foregrounds[-2] - loss_history_foregrounds[-1])\n",
        "    #delta_loss_g = np.abs(loss_history_gains[-2] - loss_history_gains[-1])\n",
        "    #if delta_loss_f <= tol and delta_loss_g <= tol:\n",
        "    #    break\n",
        "    if delta_loss <= tol:\n",
        "      break"
      ],
      "execution_count": null,
      "outputs": []
    },
    {
      "cell_type": "code",
      "metadata": {
        "ExecuteTime": {
          "end_time": "2021-05-24T05:59:19.716085Z",
          "start_time": "2021-05-24T05:59:19.400190Z"
        },
        "id": "VdT3596ROcTt"
      },
      "source": [
        "#plt.plot(loss_history_foregrounds)\n",
        "#plt.plot(loss_history_gains)\n",
        "plt.plot(loss_history)\n",
        "\n",
        "plt.yscale('log')"
      ],
      "execution_count": null,
      "outputs": []
    },
    {
      "cell_type": "code",
      "metadata": {
        "ExecuteTime": {
          "end_time": "2021-05-24T05:59:19.723890Z",
          "start_time": "2021-05-24T05:59:19.717890Z"
        },
        "id": "jfODwIPXOcTu"
      },
      "source": [
        "def yield_model_spectrum(a1, a2, grt=gr, git=gi, fg_rt=fg_r, fg_it=fg_i):\n",
        "    grgr = tf.einsum('ik,jk->ijk',grt, grt)\n",
        "    gigi = tf.einsum('ik,jk->ijk',git, git)\n",
        "    grgi = tf.einsum('ik,jk->ijk',grt, git)\n",
        "    gigr = tf.einsum('ik,jk->ijk',git, grt)\n",
        "    vr = tf.reduce_sum(fg_basis * fg_rt, axis=3)\n",
        "    vi = tf.reduce_sum(fg_basis * fg_it, axis=3)\n",
        "    model_r = (grgr + gigi) * vr + (grgi - gigr) * vi\n",
        "    model_i = (gigr - grgi) * vr + (grgr + gigi) * vi\n",
        "    return model_r.numpy()[a1, a2] + 1j * model_i.numpy()[a1, a2]\n",
        "\n",
        "def yield_data_spectrum(a1, a2):\n",
        "    return dfit_r[a1, a2].numpy() + 1j * dfit_i[a1, a2].numpy()\n",
        "\n",
        "\n",
        "def yield_model(grt=gr, git=gi, fg_rt=fg_r, fg_it=fg_i):\n",
        "    uvd_model = copy.deepcopy(uvd_total)\n",
        "    for vind, (i, j) in enumerate(zip(uvd_total.ant_1_array, uvd_total.ant_2_array)):\n",
        "        uvd_model.data_array[vind,0, :, 0] = yield_model_spectrum(i, j, grt=gr, git=gi, fg_rt=fg_r, fg_it=fg_i)\n",
        "    uvd_model.data_array *= rmsdata\n",
        "    return uvd_model"
      ],
      "execution_count": null,
      "outputs": []
    },
    {
      "cell_type": "code",
      "metadata": {
        "ExecuteTime": {
          "end_time": "2021-05-24T05:59:19.877573Z",
          "start_time": "2021-05-24T05:59:19.725573Z"
        },
        "id": "tB_kKWueOcTu"
      },
      "source": [
        "plt.plot(yield_model_spectrum(5, 3) - yield_data_spectrum(5, 3))\n",
        "#plt.plot(yield_data_spectrum(4, 4))"
      ],
      "execution_count": null,
      "outputs": []
    },
    {
      "cell_type": "code",
      "metadata": {
        "ExecuteTime": {
          "end_time": "2021-05-24T06:03:50.661765Z",
          "start_time": "2021-05-24T06:03:49.928199Z"
        },
        "id": "XY80ffA0OcTv"
      },
      "source": [
        "uvd_calibrated_model = yield_model()\n",
        "uvd_cal_resid = copy.deepcopy(uvd_total)\n",
        "uvd_cal_resid.data_array -= uvd_calibrated_model.data_array"
      ],
      "execution_count": null,
      "outputs": []
    },
    {
      "cell_type": "code",
      "metadata": {
        "id": "oqFRxYXj5PkK"
      },
      "source": [
        "uvd_true_model = copy.deepcopy(uvd_total)\n",
        "uvd_true_model.data_array = (evecs @ fg_coeffs_true).reshape((uvd_total.Nbls, 1, uvd_total.Nfreqs, 1)) * rmsdata\n",
        "uvd_true_resid = copy.deepcopy(uvd_true_model)\n",
        "uvd_true_resid.data_array = uvd_total.data_array - uvd_true_model.data_array"
      ],
      "execution_count": null,
      "outputs": []
    },
    {
      "cell_type": "code",
      "metadata": {
        "id": "Clce9kQb6A89"
      },
      "source": [
        "uvd_calibrated_model.write_uvh5('/content/drive/MyDrive/Datasets/aesahaettr/nant15_fractional_spacing1.5_unweighted_loss_calibrated_model.uvh5', clobber=True)"
      ],
      "execution_count": null,
      "outputs": []
    },
    {
      "cell_type": "code",
      "metadata": {
        "ExecuteTime": {
          "end_time": "2021-05-24T06:03:52.685965Z",
          "start_time": "2021-05-24T06:03:52.209956Z"
        },
        "id": "sWe2MSI1OcTv"
      },
      "source": [
        "fig, axarr = plt.subplots(1, 3)\n",
        "for i, (uvt, label) in enumerate(zip([uvd_total, uvd_calibrated_model, uvd_true_model], ['Data', 'Calibrated Model', 'True Model'])):\n",
        "    plt.sca(axarr[i])\n",
        "    x, y, ctot = visualization.delay_transform_sort_by_baseline_length(uvt, window='cs11')\n",
        "    xg, yg = np.meshgrid(x, y)\n",
        "    plt.pcolor(xg, yg, np.log10(np.abs(ctot.T)), #extent = [x.min(), x.max(), y.max(), y.min()],\n",
        "               vmin=-2, vmax=np.log10(np.abs(uvd_total.data_array).max()), cmap='inferno')#, interpolation='nearest', aspect='auto', cmap='inferno')\n",
        "    plt.plot(x, x / .3, ls='--', color='w')\n",
        "    plt.plot(x, -x / .3, ls='--', color='w')\n",
        "\n",
        "    plt.xlabel('b (m)')\n",
        "    plt.ylabel('$\\\\tau$ (ns)')\n",
        "    plt.colorbar()\n",
        "    #plt.xlim(0, 500)\n",
        "    plt.ylim(-2000, 2000)\n",
        "    plt.xlim()\n",
        "fig.set_size_inches(18, 8)"
      ],
      "execution_count": null,
      "outputs": []
    },
    {
      "cell_type": "code",
      "metadata": {
        "ExecuteTime": {
          "end_time": "2021-05-24T06:04:08.241799Z",
          "start_time": "2021-05-24T06:04:07.311970Z"
        },
        "id": "VKMVEN8jOcTw"
      },
      "source": [
        "fig, axarr = plt.subplots(1, 4)\n",
        "for i, uvt in enumerate([uvd_total,  uvd_cal_resid, uvd_true_resid, uvd_eor]):\n",
        "    plt.sca(axarr[i])\n",
        "    x, y, ctot = visualization.delay_transform_sort_by_baseline_length(uvt, window='bh')\n",
        "    xg, yg = np.meshgrid(x, y)\n",
        "    plt.pcolor(xg, yg, np.log10(np.abs(ctot.T)), #extent = [x.min(), x.max(), y.max(), y.min()],\n",
        "               vmin=-2, vmax=np.log10(np.abs(uvd_total.data_array).max()), cmap='inferno')#, interpolation='nearest', aspect='auto', cmap='inferno')\n",
        "    plt.plot(x, x / .3, ls='--', color='w')\n",
        "    plt.plot(x, -x / .3, ls='--', color='w')\n",
        "\n",
        "    plt.xlabel('b (m)')\n",
        "    plt.ylabel('$\\\\tau$ (ns)')\n",
        "    plt.colorbar()\n",
        "    #plt.xlim(0, 500)\n",
        "    plt.ylim(-2000, 2000)\n",
        "    plt.xlim()\n",
        "fig.set_size_inches(24, 8)"
      ],
      "execution_count": null,
      "outputs": []
    },
    {
      "cell_type": "code",
      "metadata": {
        "ExecuteTime": {
          "end_time": "2021-05-24T06:06:22.985505Z",
          "start_time": "2021-05-24T06:06:21.681033Z"
        },
        "id": "wF5CkBr3OcTw"
      },
      "source": [
        "blinds = [10, 25, 50, 75, 100]\n",
        "fig, axarr = plt.subplots(1, len(blinds))\n",
        "fig.set_size_inches(24, 8)\n",
        "labels = ['Total Power', 'Calibration Residual', 'True Residual', 'True EoR']\n",
        "for blnum, blind in enumerate(blinds):\n",
        "    plt.sca(axarr[blnum])\n",
        "    for i, uvt in enumerate([uvd_total,  uvd_cal_resid, uvd_true_resid, uvd_eor]):\n",
        "        x, y, ctot = visualization.delay_transform_sort_by_baseline_length(uvt, window='bh7')\n",
        "        plt.plot(y, np.abs(ctot[blind]), label=labels[i])\n",
        "        plt.xlim(0, 2000)\n",
        "        plt.ylim(1e-3, 1e4)\n",
        "        plt.yscale('log')\n",
        "    plt.title('%.1f m EW'%x[blind])\n",
        "    if blnum == 0:\n",
        "      plt.legend()"
      ],
      "execution_count": null,
      "outputs": []
    },
    {
      "cell_type": "code",
      "metadata": {
        "id": "uN7yMFfYuL3t"
      },
      "source": [
        ""
      ],
      "execution_count": null,
      "outputs": []
    }
  ]
}