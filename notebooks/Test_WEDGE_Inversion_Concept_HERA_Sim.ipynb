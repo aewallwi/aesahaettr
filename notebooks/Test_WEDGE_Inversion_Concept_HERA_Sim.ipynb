{
 "cells": [
  {
   "cell_type": "code",
   "execution_count": 1,
   "metadata": {
    "ExecuteTime": {
     "end_time": "2021-05-05T20:25:36.373030Z",
     "start_time": "2021-05-05T20:25:03.723380Z"
    }
   },
   "outputs": [
    {
     "name": "stderr",
     "output_type": "stream",
     "text": [
      "WARNING: AstropyDeprecationWarning: The private astropy._erfa module has been made into its own package, pyerfa, which is a dependency of astropy and can be imported directly using \"import erfa\" [astropy._erfa]\n"
     ]
    }
   ],
   "source": [
    "import numpy as np\n",
    "import matplotlib.pyplot as plt\n",
    "from uvtools import dspec\n",
    "import itertools\n",
    "import scipy.special as sp\n",
    "import copy\n",
    "from matplotlib.colors import LogNorm\n",
    "import healpy as hp\n",
    "from pygsm import GlobalSkyModel\n",
    "from pyuvsim import analyticbeam as ab\n",
    "from hera_cal import frf\n",
    "import os\n",
    "import tqdm"
   ]
  },
  {
   "cell_type": "code",
   "execution_count": 2,
   "metadata": {
    "ExecuteTime": {
     "end_time": "2021-05-05T20:25:36.379967Z",
     "start_time": "2021-05-05T20:25:36.375881Z"
    }
   },
   "outputs": [],
   "source": [
    "def get_basename(gorder, dx, df, nf, rspace, f0):\n",
    "        return f'HERA-III_dx{dx}_rspace{rspace}_G{gorder}_nf{nf}_df{df/1e3:.3f}kHz_f0{f0/1e6:.3f}'\n"
   ]
  },
  {
   "cell_type": "code",
   "execution_count": 3,
   "metadata": {
    "ExecuteTime": {
     "end_time": "2021-05-05T20:25:36.415593Z",
     "start_time": "2021-05-05T20:25:36.383560Z"
    }
   },
   "outputs": [],
   "source": [
    "def run_simulation(gorder=10, dx=2.0, df=100e3, nf=200, rspace=1., dynamic_range_db=-5.5, f0=100e6, output_dir='./'):\n",
    "    golomb_dict = {0:[0], 1:[0,1], 2:[0,1,3], \n",
    "                   3:[0,1,4,6], 4:[0,1,4,6], 5:[0,1,4,9,11],\n",
    "                   6:[0,1,4,10,12,17], 7:[0,1,4,10,18,23,25],\n",
    "                   8:[0,1,4,9,15,22,32,34], 9:[0,1,5,12,25,27,35,41,44],\n",
    "                   10:[0,1,6,10,23,26,34,41,53,55],\n",
    "                   15:[0, 4, 20, 30, 57, 59, 62, 76, 100, 111, 123, 136, 144, 145, 151],\n",
    "                   20:[0,1,8,11,68,77,94,116,121,156,158,\n",
    "                       179,194,208,212,228,240,253,259, 283]}\n",
    "    golomb_dict = {k:np.asarray(golomb_dict[k]) for k in golomb_dict}\n",
    "    antpos = golomb_dict[gorder] * dx * rspace\n",
    "    obs_freqs = np.linspace(f0, f0 + nf * df, nf)\n",
    "    # write yaml file\n",
    "    import yaml\n",
    "    telescope_yaml_dict = {'beam_paths': {i: {'type': 'airy'} for i in range(len(antpos))}, 'diameter': dx, \n",
    "                           'telescope_location': '(-30.721527777777847, 21.428305555555557, 1073.0000000046566)',\n",
    "                           'telescope_name': 'HERA'}\n",
    "    telescope_yaml_name = os.path.join(output_dir, f'airy_config_dx{dx}.yaml')\n",
    "    with open(telescope_yaml_name, 'w') as telescope_yaml_file:\n",
    "        yaml.safe_dump(telescope_yaml_dict, telescope_yaml_file)\n",
    "    # write csv file.\n",
    "    csv_name =  os.path.join(output_dir, f'layout_dx{dx}_rspace{rspace}_G{gorder}.csv')\n",
    "    lines = []\n",
    "    lines.append('Name\\tNumber\\tBeamID\\tE    \\tN    \\tU\\n')\n",
    "    for i, x  in enumerate(antpos):\n",
    "        lines.append(f'ANT{i}\\t{i}\\t{i}\\t{x:.4f}\\t{0:.4f}\\t{0:.4f}\\n')\n",
    "    with open(csv_name, 'w') as csv_file:\n",
    "        csv_file.writelines(lines)\n",
    "    # generate obs param dict and csv file\n",
    "    obs_param_dict = {'freq':{'Nfreqs': int(nf), 'bandwidth': float(nf * df), 'start_freq': float(obs_freqs[0])},\n",
    "                      'telescope': {'array_layout': csv_name,\n",
    "                                    'telescope_config_name': telescope_yaml_name},\n",
    "                      'time': {'Ntimes': 1, 'duration_days': 0.0012731478148148147, \n",
    "                               'integration_time': 11.0, 'start_time': 2457458.1738949567},\n",
    "                      'polarization_array': [-5]}\n",
    "    basename = get_basename(gorder, dx, df, nf, rspace, f0)\n",
    "    obs_param_yaml_name = os.path.join(output_dir, f'{basename}.yaml')\n",
    "    with open(obs_param_yaml_name, 'w') as obs_param_yaml:\n",
    "        yaml.safe_dump(obs_param_dict, obs_param_yaml)\n",
    "    # generate GSM cube\n",
    "    gsm = GlobalSkyModel(freq_unit='Hz')\n",
    "    NSIDE_GSM = 256\n",
    "    NPIX_GSM = hp.nside2npix(NSIDE_GSM)\n",
    "    gsmcube = np.zeros((nf, NPIX_GSM))\n",
    "    rot=hp.rotator.Rotator(coord=['G', 'C'])\n",
    "    for fnum,f in enumerate(obs_freqs):\n",
    "        mapslice = gsm.generate(f)\n",
    "        mapslice = hp.ud_grade(mapslice, NSIDE_GSM)\n",
    "        # convert from galactic to celestial\n",
    "        gsmcube[fnum] = rot.rotate_map_pixel(mapslice)\n",
    "    gsmcube = np.array(gsmcube)\n",
    "    gsmcube = 2 * gsmcube * np.pi * 4 / NPIX_GSM * 1.4e-23 / 1e-26 / (3e8 / obs_freqs[:, None])**2\\\n",
    "            / hp.nside2pixarea(NSIDE_GSM)\n",
    "    from hera_sim.visibilities import vis_cpu\n",
    "    # define eor cube with random noise.\n",
    "    eorcube = np.abs(np.random.randn(*gsmcube.shape))\n",
    "    eorcube *= np.std(gsmcube) / np.std(eorcube) * 10. ** (dynamic_range_db)\n",
    "    from pyuvsim.simsetup import initialize_uvdata_from_params, _complete_uvdata\n",
    "    uvdata, beams, beam_ids = initialize_uvdata_from_params(obs_param_yaml_name)\n",
    "    _complete_uvdata(uvdata, inplace=True)\n",
    "    beam_ids = list(beam_ids.values())\n",
    "    beams.set_obj_mode()\n",
    "    eor_simulator = vis_cpu.VisCPU(uvdata=copy.deepcopy(uvdata), sky_freqs=obs_freqs, beams=beams, beam_ids=beam_ids, sky_intensity=eorcube)\n",
    "    eor_vis = eor_simulator.simulate()\n",
    "    gsm_simulator = vis_cpu.VisCPU(uvdata=copy.deepcopy(uvdata), sky_freqs=obs_freqs, beams=beams, beam_ids=beam_ids, sky_intensity=gsmcube)\n",
    "    gsm_vis = gsm_simulator.simulate()\n",
    "    # write uvdata files.\n",
    "    gsm_simulator.uvdata.write_uvh5(basename + '_gsm.uvh5', clobber=True)\n",
    "    eor_simulator.uvdata.write_uvh5(basename + f'_eor_{dynamic_range_db:.1f}dB.uvh5', clobber=True)\n",
    "    return gsm_simulator.uvdata, eor_simulator.uvdata"
   ]
  },
  {
   "cell_type": "code",
   "execution_count": 4,
   "metadata": {
    "ExecuteTime": {
     "end_time": "2021-05-05T20:25:36.433561Z",
     "start_time": "2021-05-05T20:25:36.418034Z"
    }
   },
   "outputs": [],
   "source": [
    "def fft_arrange_wedge(uvd, tind=0, polind=0, window='bh', min_bl=0.1, filtermatrix=None, include_autos=False):\n",
    "    \"\"\"\n",
    "    generate an (NF x NBL) array with baselines arranged in ascending length\n",
    "    \"\"\"\n",
    "    uvd = copy.deepcopy(uvd)\n",
    "    if not include_autos:\n",
    "        uvd.select(bls=[bl for bl in uvd.get_antpairs() if bl[0] != bl[1]])\n",
    "    data_inds = np.where(uvd.time_array == np.unique(uvd.time_array)[tind])[0]\n",
    "    data = uvd.data_array[data_inds, 0, :, polind].reshape(len(data_inds), uvd.Nfreqs)\n",
    "    if filtermatrix is not None:\n",
    "        data = (filtermatrix @ (data.reshape(len(data_inds) * uvd.Nfreqs, order='F'))).reshape(len(data_inds), uvd.Nfreqs, order='F')\n",
    "    bl_lens = np.linalg.norm(uvd.uvw_array[data_inds], axis=1)\n",
    "    sorted_lens = np.argsort(bl_lens)\n",
    "    data = data[sorted_lens, :]\n",
    "    bl_lens = bl_lens[sorted_lens]\n",
    "    data = data[bl_lens > min_bl]\n",
    "    bl_lens = bl_lens[bl_lens > min_bl]\n",
    "    wf = dspec.gen_window(window, uvd.Nfreqs)\n",
    "    delays = 1e9 * np.fft.fftshift(np.fft.fftfreq(uvd.Nfreqs, np.mean(np.diff(uvd.freq_array))))\n",
    "    return bl_lens, delays, np.fft.fftshift(np.fft.fft(np.fft.fftshift(wf[None, :] * data, axes=1), axis=1), axes=1)"
   ]
  },
  {
   "cell_type": "code",
   "execution_count": 6,
   "metadata": {
    "ExecuteTime": {
     "end_time": "2021-05-05T20:25:50.987466Z",
     "start_time": "2021-05-05T20:25:50.959796Z"
    }
   },
   "outputs": [],
   "source": [
    "def cov_mat_simple(uvd, eta_max=0.0, order_by_u=False, per_baseline=True):\n",
    "    uvd = copy.deepcopy(uvd)\n",
    "    # only works on a 1d array.\n",
    "    data_inds = np.where(uvd.time_array == np.unique(uvd.time_array)[0])[0]\n",
    "    for uindex in [1, 2]:\n",
    "        assert np.allclose(uvd.uvw_array[data_inds, uindex], 0.0)\n",
    "    uvals = np.outer(uvd.uvw_array[data_inds, 0], uvd.freq_array[0] / 3e8).flatten('F')\n",
    "    nuvals = np.outer(np.ones(uvd.Nbls), uvd.freq_array[0]).flatten('F')\n",
    "    if order_by_u:\n",
    "        uordering = np.argsort(uvals)\n",
    "        uvals = uvals[uordering]\n",
    "        nuvals = nuvals[uordering]\n",
    "    u_x, u_y = np.meshgrid(uvals, uvals)\n",
    "    nu_x, nu_y = np.meshgrid(nuvals, nuvals)\n",
    "    covmat = np.sinc(2 * (u_x - u_y)) * np.sinc(2 * eta_max * (nu_x - nu_y))\n",
    "    if per_baseline:\n",
    "        covmat[~np.isclose(u_x / nu_x * 3e8, u_y / nu_y * 3e8)] = 0.0\n",
    "    return covmat\n",
    "\n",
    "def filter_mat_simple(uvd, eta_max, order_by_u=False, tol=1e-8, per_baseline=True):\n",
    "    cmat_simple = cov_mat_simple(uvd, eta_max=eta_max, order_by_u=order_by_u, per_baseline=per_baseline)\n",
    "    cmat_simple = cmat_simple / tol + np.identity(cmat_simple.shape[0])\n",
    "    return np.linalg.pinv(cmat_simple)\n",
    "\n",
    "def filter_data(uvd, eta_max, order_by_u=False, tol=1e-8, per_baseline=True):\n",
    "    uvd = copy.deepcopy(uvd)\n",
    "    if not per_baseline:\n",
    "        filter_matrix = filter_mat_simple(uvd, eta_max, order_by_u, tol, per_baseline=False)\n",
    "        for time in np.unique(uvd.time_array):\n",
    "            data_inds = np.where(uvd.time_array == time)[0]\n",
    "            for pind in range(uvd.data_array.shape[-1]):\n",
    "                data = uvd.data_array[data_inds, 0, :, pind].squeeze()\n",
    "                uvd.data_array[data_inds, 0, :, pind] = \\\n",
    "                (filter_matrix @\\\n",
    "                 (data.reshape(len(data_inds)\\\n",
    "                  * uvd.Nfreqs, order='F'))).reshape(len(data_inds), uvd.Nfreqs, order='F')\n",
    "    else:\n",
    "        cache = {}\n",
    "        for time in np.unique(uvd.time_array):\n",
    "            data_inds = np.where(uvd.time_array == time)[0]\n",
    "            for pind in range(uvd.data_array.shape[-1]):\n",
    "                for rownum in range(uvd.data_array[data_inds, 0, :, pind].squeeze().shape[0]):\n",
    "                    drow = uvd.data_array[data_inds, 0, :, pind][rownum].squeeze()\n",
    "                    fw = eta_max + np.linalg.norm(uvd.uvw_array[data_inds[rownum]]) / 3e8\n",
    "                    filtered\\\n",
    "                    = dspec.dayenu_filter(x=uvd.freq_array[0], data=drow, \n",
    "                                          wgts=np.ones(uvd.Nfreqs), \n",
    "                                          cache=cache, filter_centers=[0.0], \n",
    "                                          filter_half_widths=[fw], \n",
    "                                          filter_dimensions=[0],\n",
    "                                          filter_factors=[tol])[0]\n",
    "                    uvd.data_array[data_inds[rownum], 0, :, pind] = filtered\n",
    "                \n",
    "    return uvd\n",
    "\n"
   ]
  },
  {
   "cell_type": "code",
   "execution_count": 7,
   "metadata": {
    "ExecuteTime": {
     "end_time": "2021-05-05T20:25:51.714048Z",
     "start_time": "2021-05-05T20:25:51.699225Z"
    }
   },
   "outputs": [],
   "source": [
    "def process_configuration(gorder=10, dx=2.0, df=100e3, nf=200, rspace=1., \n",
    "                          dynamic_range_db=-5.5, tol=1e-11, f0=100e6, output_dir='./', \n",
    "                          buffer_multiplier=1.0, skip_existing=True):\n",
    "    basename = get_basename(gorder, dx, df, nf, rspace, f0)\n",
    "    filtered_pbl_file = os.path.join(output_dir, basename + f'_bmult{buffer_multiplier:.2f}_tol{tol:.1e}_pbl.uvh5')\n",
    "    filtered_ibl_file = os.path.join(output_dir, basename + f'_bmult{buffer_multiplier:.2f}_tol{tol:.1e}_ibl.uvh5')\n",
    "    if (not os.path.exists(filtered_pbl_file) or not os.path.exists(filtered_ibl_file)) or not skip_existing:\n",
    "        uvd_eor_name = os.path.join(output_dir, basename + '_eor.uvh5')\n",
    "        uvd_gsm_name = os.path.join(output_dir, basename + '_gsm.uvh5')\n",
    "        if os.path.exists(uvd_eor_name) and os.path.exists(uvd_gsm_name):\n",
    "            uvd_eor = UVData()\n",
    "            uvd_eor.read_uvh5(uvd_eor_name)\n",
    "            uvd_gsm = UVData()\n",
    "            uvd_gsm.read_uvh5(uvd_gsm_name)\n",
    "        else:\n",
    "            uvd_eor, uvd_gsm = run_simulation(gorder=gorder, \n",
    "                                              dx=dx, df=df, nf=nf, rspace=rspace, \n",
    "                                              dynamic_range_db=dynamic_range_db, output_dir=output_dir)\n",
    "        uvd_total = copy.deepcopy(uvd_eor)\n",
    "        uvd_total.data_array = uvd_eor.data_array + uvd_gsm.data_array\n",
    "        uvd_filtered_pbl = filter_data(uvd_total, eta_max=2 / 3e8 * buffer_multiplier, tol=tol)\n",
    "        uvd_filtered_ibl = filter_data(uvd_total, eta_max=2 / 3e8 * buffer_multiplier, tol=tol, per_baseline=False)\n",
    "        uvd_filtered_pbl.write_uvh5(filtered_pbl_file, clobber=True)\n",
    "        uvd_filtered_ibl.write_uvh5(filtered_ibl_file, clobber=True)"
   ]
  },
  {
   "cell_type": "code",
   "execution_count": 8,
   "metadata": {
    "ExecuteTime": {
     "end_time": "2021-05-05T20:25:52.634594Z",
     "start_time": "2021-05-05T20:25:52.626574Z"
    }
   },
   "outputs": [],
   "source": [
    "r_spaces = [1, 1.5, 2.]\n",
    "dxs = [2.0, 4.0, 8.0, 14.0]\n",
    "nfs = [100, 200, 400]\n",
    "gorders = [10, 15]\n",
    "dfs = [100e3, 200e3]\n",
    "param_combinations = []\n",
    "\n",
    "for rspace in r_spaces:\n",
    "    for dx in dxs:\n",
    "        for nf in nfs:\n",
    "            for df in dfs:\n",
    "                for gorder in gorders:\n",
    "                    param_combinations.append({'rspace':rspace, 'dx':dx, 'nf':nf, 'df':df, 'gorder':gorder})\n"
   ]
  },
  {
   "cell_type": "code",
   "execution_count": 9,
   "metadata": {
    "ExecuteTime": {
     "end_time": "2021-05-05T20:25:53.780916Z",
     "start_time": "2021-05-05T20:25:53.769764Z"
    }
   },
   "outputs": [
    {
     "data": {
      "text/plain": [
       "<module 'uvtools.dspec' from '/lustre/aoc/projects/hera/aewallwi/miniconda3/envs/hera3/lib/python3.7/site-packages/uvtools/dspec.py'>"
      ]
     },
     "execution_count": 9,
     "metadata": {},
     "output_type": "execute_result"
    }
   ],
   "source": [
    "import imp\n",
    "imp.reload(dspec)"
   ]
  },
  {
   "cell_type": "code",
   "execution_count": 10,
   "metadata": {
    "ExecuteTime": {
     "end_time": "2021-05-05T20:25:54.596768Z",
     "start_time": "2021-05-05T20:25:54.592669Z"
    }
   },
   "outputs": [],
   "source": [
    "os.mkdir('./param_sweep')"
   ]
  },
  {
   "cell_type": "code",
   "execution_count": null,
   "metadata": {
    "ExecuteTime": {
     "start_time": "2021-05-05T20:25:55.118Z"
    }
   },
   "outputs": [
    {
     "name": "stderr",
     "output_type": "stream",
     "text": [
      "  0%|          | 0/144 [00:00<?, ?it/s]/lustre/aoc/projects/hera/aewallwi/miniconda3/envs/hera3/lib/python3.7/site-packages/hera_sim/visibilities/__init__.py:27: UserWarning: PRISim failed to import.\n",
      "  warnings.warn(\"PRISim failed to import.\")\n",
      "/lustre/aoc/projects/hera/aewallwi/miniconda3/envs/hera3/lib/python3.7/site-packages/hera_sim/visibilities/__init__.py:33: UserWarning: VisGPU failed to import.\n",
      "  warnings.warn(\"VisGPU failed to import.\")\n",
      "/lustre/aoc/projects/hera/aewallwi/miniconda3/envs/hera3/lib/python3.7/site-packages/hera_sim/__init__.py:36: FutureWarning: \n",
      "In the next major release, all HERA-specific variables will be removed from the codebase. The following variables will need to be accessed through new class-like structures to be introduced in the next major release: \n",
      "\n",
      "noise.HERA_Tsky_mdl\n",
      "noise.HERA_BEAM_POLY\n",
      "sigchain.HERA_NRAO_BANDPASS\n",
      "rfi.HERA_RFI_STATIONS\n",
      "\n",
      "Additionally, the next major release will involve modifications to the package's API, which move toward a regularization of the way in which hera_sim methods are interfaced with; in particular, changes will be made such that the Simulator class is the most intuitive way of interfacing with the hera_sim package features.\n",
      "  FutureWarning)\n",
      "invalid value encountered in sqrt\n",
      "  1%|          | 1/144 [06:09<14:40:18, 369.36s/it]invalid value encountered in sqrt\n",
      "  1%|▏         | 2/144 [19:27<24:30:53, 621.50s/it]invalid value encountered in sqrt\n",
      "  2%|▏         | 3/144 [25:29<19:42:30, 503.20s/it]invalid value encountered in sqrt\n",
      "  3%|▎         | 4/144 [38:47<24:05:23, 619.46s/it]invalid value encountered in sqrt\n",
      "  3%|▎         | 5/144 [54:04<28:03:22, 726.64s/it]invalid value encountered in sqrt\n",
      "  4%|▍         | 6/144 [1:53:14<64:39:45, 1686.85s/it]invalid value encountered in sqrt\n",
      "  5%|▍         | 7/144 [2:08:36<54:40:04, 1436.53s/it]invalid value encountered in sqrt\n",
      "  6%|▌         | 8/144 [3:07:52<79:45:52, 2111.41s/it]invalid value encountered in sqrt\n"
     ]
    }
   ],
   "source": [
    "for params in tqdm.tqdm(param_combinations):\n",
    "    try:\n",
    "        process_configuration(output_dir='./param_sweep/',**params)\n",
    "    except:\n",
    "        print(f'Failed {params}')"
   ]
  },
  {
   "cell_type": "code",
   "execution_count": 31,
   "metadata": {
    "scrolled": true
   },
   "outputs": [
    {
     "data": {
      "image/png": "[encoded data removed]",
      "text/plain": [
       "<Figure size 432x288 with 4 Axes>"
      ]
     },
     "metadata": {
      "needs_background": "light"
     },
     "output_type": "display_data"
    }
   ],
   "source": [
    "fix, axarr = plt.subplots(1, 2)\n",
    "for i, uvd_filtered in enumerate([uvd_filtered_pbl, uvd_filtered_ibl]):\n",
    "    plt.sca(axarr[i])\n",
    "    x, y, ctot = fft_arrange_wedge(uvd_filtered, window='none')\n",
    "\n",
    "    plt.imshow(np.log10(np.abs(ctot).T), extent = [x.min(), x.max(), y.max(), y.min()],\n",
    "               vmin=-5, vmax=3, interpolation='nearest', aspect='auto', cmap='inferno')\n",
    "    plt.plot(x, x / .3, ls='--', color='w')\n",
    "    plt.plot(x, -x / .3, ls='--', color='w')\n",
    "\n",
    "    plt.xlabel('b (m)')\n",
    "    plt.ylabel('$\\\\tau$ (ns)')\n",
    "    plt.colorbar()\n",
    "    plt.ylim(-2000, 2000)"
   ]
  },
  {
   "cell_type": "code",
   "execution_count": null,
   "metadata": {},
   "outputs": [],
   "source": []
  },
  {
   "cell_type": "code",
   "execution_count": null,
   "metadata": {},
   "outputs": [],
   "source": []
  }
 ],
 "metadata": {
  "kernelspec": {
   "display_name": "Python 3",
   "language": "python",
   "name": "python3"
  },
  "language_info": {
   "codemirror_mode": {
    "name": "ipython",
    "version": 3
   },
   "file_extension": ".py",
   "mimetype": "text/x-python",
   "name": "python",
   "nbconvert_exporter": "python",
   "pygments_lexer": "ipython3",
   "version": "3.7.5"
  }
 },
 "nbformat": 4,
 "nbformat_minor": 4
}
