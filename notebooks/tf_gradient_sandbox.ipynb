{
 "cells": [
  {
   "cell_type": "code",
   "execution_count": 1,
   "metadata": {
    "ExecuteTime": {
     "end_time": "2021-05-22T03:42:20.910964Z",
     "start_time": "2021-05-22T03:42:18.366240Z"
    }
   },
   "outputs": [
    {
     "name": "stderr",
     "output_type": "stream",
     "text": [
      "/home/aaronew/science/miniconda3/envs/hera/lib/python3.8/site-packages/hera_sim/visibilities/__init__.py:22: UserWarning: HealVis failed to import.\n",
      "  warnings.warn(\"HealVis failed to import.\")\n",
      "/home/aaronew/science/miniconda3/envs/hera/lib/python3.8/site-packages/hera_sim/visibilities/__init__.py:27: UserWarning: PRISim failed to import.\n",
      "  warnings.warn(\"PRISim failed to import.\")\n",
      "/home/aaronew/science/miniconda3/envs/hera/lib/python3.8/site-packages/hera_sim/visibilities/__init__.py:33: UserWarning: VisGPU failed to import.\n",
      "  warnings.warn(\"VisGPU failed to import.\")\n",
      "/home/aaronew/science/miniconda3/envs/hera/lib/python3.8/site-packages/hera_sim/__init__.py:23: FutureWarning: \n",
      "In the next major release, all HERA-specific variables will be removed from the codebase. The following variables will need to be accessed through new class-like structures to be introduced in the next major release: \n",
      "\n",
      "noise.HERA_Tsky_mdl\n",
      "noise.HERA_BEAM_POLY\n",
      "sigchain.HERA_NRAO_BANDPASS\n",
      "rfi.HERA_RFI_STATIONS\n",
      "\n",
      "Additionally, the next major release will involve modifications to the package's API, which move toward a regularization of the way in which hera_sim methods are interfaced with; in particular, changes will be made such that the Simulator class is the most intuitive way of interfacing with the hera_sim package features.\n",
      "  warnings.warn(\n"
     ]
    },
    {
     "data": {
      "text/html": [
       "<style>.container { width:100% !important; }</style>"
      ],
      "text/plain": [
       "<IPython.core.display.HTML object>"
      ]
     },
     "metadata": {},
     "output_type": "display_data"
    }
   ],
   "source": [
    "from aesahaettr import calamity\n",
    "from aesahaettr import covariances\n",
    "from aesahaettr import visibilities\n",
    "from aesahaettr import visualization\n",
    "import copy\n",
    "import numpy as np\n",
    "import tensorflow as tf\n",
    "\n",
    "import matplotlib.pyplot as plt\n",
    "from IPython.display import display, HTML\n",
    "display(HTML(\"<style>.container { width:100% !important; }</style>\"))"
   ]
  },
  {
   "cell_type": "markdown",
   "metadata": {},
   "source": [
    "## Free Parameters versus baseline count."
   ]
  },
  {
   "cell_type": "code",
   "execution_count": null,
   "metadata": {
    "ExecuteTime": {
     "start_time": "2021-05-22T03:42:18.367Z"
    }
   },
   "outputs": [],
   "source": [
    "nparams = []\n",
    "ngains = []\n",
    "ndata = []\n",
    "nparams_zd = []\n",
    "for nant in range(3, 12):\n",
    "    evals, _ = covariances.cov_mat_simple_evecs(antenna_diameter=2.,\n",
    "                                                    eigenval_cutoff=1e-10, fractional_spacing=5.,\n",
    "                                                    nf=200, df=200e3, f0=150e6, antenna_count=nant,\n",
    "                                                    antenna_chromaticity=2. / 3e8)\n",
    "    evals_zd, _ = covariances.cov_mat_simple_evecs(antenna_diameter=2., intra_baseline_only=True,\n",
    "                                                eigenval_cutoff=1e-10, fractional_spacing=5.,\n",
    "                                                nf=200, df=200e3, f0=150e6, antenna_count=nant,\n",
    "                                                antenna_chromaticity=2. / 3e8, )\n",
    "    ngains.append(nant * 200)\n",
    "    ndata.append((nant * (nant+1) / 2 - (nant-1)) * 200)\n",
    "    nparams.append(len(evals))\n",
    "    nparams_zd.append(len(evals_zd))"
   ]
  },
  {
   "cell_type": "code",
   "execution_count": null,
   "metadata": {
    "ExecuteTime": {
     "start_time": "2021-05-22T03:42:18.369Z"
    }
   },
   "outputs": [],
   "source": [
    "plt.plot(range(3, 12), ndata, label='Ndata')\n",
    "plt.plot(range(3, 12), ngains, label='Ngains')\n",
    "plt.plot(range(3, 12), np.asarray(nparams) + np.asarray(ngains), label='Ngain + Nfg')\n",
    "plt.plot(range(3, 12), np.asarray(nparams_zd) + np.asarray(ngains), label='Ngain + Nfg with diagonal fg modeling')\n",
    "\n",
    "plt.legend()\n",
    "plt.grid()"
   ]
  },
  {
   "cell_type": "code",
   "execution_count": null,
   "metadata": {
    "ExecuteTime": {
     "start_time": "2021-05-22T03:42:18.371Z"
    }
   },
   "outputs": [],
   "source": [
    "# test fitting foregrounds\n",
    "uvd_gsm, uvd_eor = visibilities.compute_visibilities(output_dir='./', nside_sky=256, antenna_count=11,\n",
    "                                                       nf=200, df=200e3, f0=150e6, antenna_diameter=2.,\n",
    "                                                       fractional_spacing=5, eor_fg_ratio=10**(-3.5))\n",
    "uvd_total = copy.deepcopy(uvd_gsm)\n",
    "uvd_total.data_array += uvd_eor.data_array\n",
    "\n",
    "evals, evecs = covariances.cov_mat_simple_evecs(uvdata=uvd_total, antenna_diameter=2., eigenval_cutoff=1e-10, antenna_chromaticity=2. / 3e8)\n",
    "# initialize with true foreground coefficients\n",
    "# plus a perturbation.\n",
    "data = copy.deepcopy(uvd_total.data_array.squeeze()).reshape(uvd_total.Nbls * uvd_total.Nfreqs) \n",
    "mdata = np.mean(data) * 0\n",
    "data -= mdata\n",
    "rmsdata = np.sqrt(np.mean(np.abs(data) ** 2.))\n",
    "data /= rmsdata\n",
    "fg_coeffs_true = evecs.T @ data\n",
    "fg_coeffs = fg_coeffs_true + .1 * fg_coeffs_true * (np.random.randn(len(fg_coeffs_true)))"
   ]
  },
  {
   "cell_type": "code",
   "execution_count": null,
   "metadata": {
    "ExecuteTime": {
     "start_time": "2021-05-22T03:42:18.373Z"
    }
   },
   "outputs": [],
   "source": [
    "weights = tf.convert_to_tensor(np.ones(data.shape, dtype=np.float64))\n",
    "\n",
    "foreground_coefficients_real = tf.Variable(tf.convert_to_tensor(fg_coeffs.real))\n",
    "foreground_coefficients_imag = tf.Variable(tf.convert_to_tensor(fg_coeffs.imag))\n",
    "\n",
    "foreground_basis_vectors = tf.convert_to_tensor(evecs)\n",
    "\n",
    "data_real = tf.convert_to_tensor(data.real)\n",
    "data_imag = tf.convert_to_tensor(data.imag)\n",
    "\n",
    "loss = lambda: .5 * tf.reduce_sum(tf.math.square(data_real - tf.math.reduce_sum(foreground_basis_vectors * foreground_coefficients_real, axis=1) * weights)) \\\n",
    "               + .5 * tf.reduce_sum(tf.math.square(data_imag - tf.math.reduce_sum(foreground_basis_vectors * foreground_coefficients_imag, axis=1) * weights))\n",
    "\n",
    "opt = tf.optimizers.Adamax(lr=1e-2)\n",
    "\n",
    "foreground_coefficients_real_last = foreground_coefficients_real.numpy()\n",
    "foreground_coefficients_imag_last = foreground_coefficients_imag.numpy()\n",
    "opt.minimize(loss, [foreground_coefficients_real, foreground_coefficients_imag])\n",
    "\n",
    "delta_real = np.abs(foreground_coefficients_real.numpy() - foreground_coefficients_real_last).max()\n",
    "delta_imag = np.abs(foreground_coefficients_imag.numpy() - foreground_coefficients_imag_last).max()\n",
    "\n",
    "\n"
   ]
  },
  {
   "cell_type": "code",
   "execution_count": null,
   "metadata": {
    "ExecuteTime": {
     "start_time": "2021-05-22T03:42:18.376Z"
    }
   },
   "outputs": [],
   "source": [
    "var_history_real = []\n",
    "var_history_imag = []\n",
    "tol = 1e-5\n",
    "step = 0\n",
    "maxsteps = 3500\n",
    "while (delta_real >= tol or delta_imag >= tol) and step < maxsteps:\n",
    "    opt.minimize(loss, [foreground_coefficients_real, foreground_coefficients_imag])\n",
    "    delta_real = np.abs(foreground_coefficients_real.numpy() - foreground_coefficients_real_last).max()\n",
    "    delta_imag = np.abs(foreground_coefficients_imag.numpy() - foreground_coefficients_imag_last).max()\n",
    "    foreground_coefficients_real_last = foreground_coefficients_real.numpy()\n",
    "    var_history_real.append(foreground_coefficients_real_last)\n",
    "    foreground_coefficients_imag_last = foreground_coefficients_imag.numpy()\n",
    "    var_history_imag.append(foreground_coefficients_imag_last)\n",
    "    step += 1"
   ]
  },
  {
   "cell_type": "code",
   "execution_count": null,
   "metadata": {
    "ExecuteTime": {
     "start_time": "2021-05-22T03:42:18.377Z"
    }
   },
   "outputs": [],
   "source": [
    "step"
   ]
  },
  {
   "cell_type": "code",
   "execution_count": null,
   "metadata": {
    "ExecuteTime": {
     "start_time": "2021-05-22T03:42:18.380Z"
    }
   },
   "outputs": [],
   "source": [
    "delta_imag"
   ]
  },
  {
   "cell_type": "code",
   "execution_count": null,
   "metadata": {
    "ExecuteTime": {
     "start_time": "2021-05-22T03:42:18.382Z"
    }
   },
   "outputs": [],
   "source": [
    "foreground_coefficients = foreground_coefficients_real.numpy() + 1j * foreground_coefficients_imag.numpy()\n",
    "foreground_model = (foreground_basis_vectors.numpy() @ foreground_coefficients).reshape(uvd_eor.Nbls, uvd_eor.Nfreqs)\n",
    "foreground_model = foreground_model * rmsdata + mdata"
   ]
  },
  {
   "cell_type": "code",
   "execution_count": null,
   "metadata": {
    "ExecuteTime": {
     "start_time": "2021-05-22T03:42:18.385Z"
    }
   },
   "outputs": [],
   "source": [
    "len(fg_coeffs_true)"
   ]
  },
  {
   "cell_type": "code",
   "execution_count": null,
   "metadata": {
    "ExecuteTime": {
     "start_time": "2021-05-22T03:42:18.388Z"
    }
   },
   "outputs": [],
   "source": [
    "foreground_model_true = (foreground_basis_vectors.numpy() @ fg_coeffs_true).reshape(uvd_eor.Nbls, uvd_eor.Nfreqs)\n",
    "foreground_model_true = foreground_model_true * rmsdata + mdata"
   ]
  },
  {
   "cell_type": "code",
   "execution_count": null,
   "metadata": {
    "ExecuteTime": {
     "start_time": "2021-05-22T03:42:18.390Z"
    }
   },
   "outputs": [],
   "source": [
    "len(fg_coeffs_true) + uvd_eor.Nants_data * uvd_eor.Nfreqs"
   ]
  },
  {
   "cell_type": "code",
   "execution_count": null,
   "metadata": {
    "ExecuteTime": {
     "start_time": "2021-05-22T03:42:18.393Z"
    },
    "scrolled": false
   },
   "outputs": [],
   "source": [
    "len(data)"
   ]
  },
  {
   "cell_type": "code",
   "execution_count": null,
   "metadata": {
    "ExecuteTime": {
     "start_time": "2021-05-22T03:42:18.394Z"
    }
   },
   "outputs": [],
   "source": [
    "delta_imag"
   ]
  },
  {
   "cell_type": "code",
   "execution_count": null,
   "metadata": {
    "ExecuteTime": {
     "start_time": "2021-05-22T03:42:18.396Z"
    },
    "scrolled": false
   },
   "outputs": [],
   "source": [
    "fig, axarr = plt.subplots(len(fg_coeffs[:200])//8, 8)\n",
    "fig.set_size_inches(24, 68)\n",
    "for i in range(len(var_history_real[0])):\n",
    "    l = i % 8\n",
    "    m = i // 8\n",
    "    plt.sca(axarr[m][l])\n",
    "    plt.plot(np.abs(np.diff(np.asarray(var_history_real).T[i])))\n",
    "    plt.yscale('log')\n",
    "plt.show()\n"
   ]
  },
  {
   "cell_type": "code",
   "execution_count": null,
   "metadata": {
    "ExecuteTime": {
     "start_time": "2021-05-22T03:42:18.398Z"
    }
   },
   "outputs": [],
   "source": [
    "delta_imag"
   ]
  },
  {
   "cell_type": "code",
   "execution_count": null,
   "metadata": {
    "ExecuteTime": {
     "start_time": "2021-05-22T03:42:18.399Z"
    },
    "scrolled": false
   },
   "outputs": [],
   "source": [
    "fig, axarr = plt.subplots(len(fg_coeffs[:200])//8 + 1, 8)\n",
    "fig.set_size_inches(48, 96)\n",
    "for i in range(200):\n",
    "    l = i % 8\n",
    "    m = i // 8\n",
    "    plt.sca(axarr[m][l])\n",
    "    plt.plot(np.asarray(var_history_real).T[i])\n",
    "    plt.axhline(fg_coeffs_true[i].real, ls='--', color='r')\n",
    "plt.show()\n"
   ]
  },
  {
   "cell_type": "code",
   "execution_count": null,
   "metadata": {
    "ExecuteTime": {
     "start_time": "2021-05-22T03:42:18.401Z"
    }
   },
   "outputs": [],
   "source": [
    "plt.hist(fg_coeffs_true.real - foreground_coefficients_imag_last)"
   ]
  },
  {
   "cell_type": "code",
   "execution_count": null,
   "metadata": {
    "ExecuteTime": {
     "start_time": "2021-05-22T03:42:18.402Z"
    }
   },
   "outputs": [],
   "source": [
    "uvd_model = copy.deepcopy(uvd_total)\n",
    "uvd_model.data_array = foreground_model.reshape(uvd_model.Nbls, 1, uvd_model.Nfreqs, 1)\n",
    "uvd_resid = copy.deepcopy(uvd_total)\n",
    "uvd_resid.data_array = uvd_total.data_array - uvd_model.data_array"
   ]
  },
  {
   "cell_type": "code",
   "execution_count": null,
   "metadata": {
    "ExecuteTime": {
     "start_time": "2021-05-22T03:42:18.404Z"
    }
   },
   "outputs": [],
   "source": [
    "uvd_resid_true = copy.deepcopy(uvd_total)\n",
    "uvd_resid_true.data_array = uvd_total.data_array -  foreground_model_true.reshape(uvd_model.Nbls, 1, uvd_model.Nfreqs, 1)"
   ]
  },
  {
   "cell_type": "code",
   "execution_count": null,
   "metadata": {
    "ExecuteTime": {
     "start_time": "2021-05-22T03:42:18.406Z"
    }
   },
   "outputs": [],
   "source": [
    "uvd_resid_icov = copy.deepcopy(utd_total)\n",
    "uvd_resid_icov = "
   ]
  },
  {
   "cell_type": "code",
   "execution_count": null,
   "metadata": {
    "ExecuteTime": {
     "start_time": "2021-05-22T03:42:18.407Z"
    }
   },
   "outputs": [],
   "source": [
    "mdata"
   ]
  },
  {
   "cell_type": "code",
   "execution_count": null,
   "metadata": {
    "ExecuteTime": {
     "start_time": "2021-05-22T03:42:18.409Z"
    }
   },
   "outputs": [],
   "source": [
    "uvd_noise = copy.deepcopy(uvd_total)\n",
    "uvd_noise.data_array = uvd_total.data_array - uvd_gsm.data_array"
   ]
  },
  {
   "cell_type": "code",
   "execution_count": null,
   "metadata": {
    "ExecuteTime": {
     "end_time": "2021-05-22T00:37:48.910061Z",
     "start_time": "2021-05-22T00:37:48.902707Z"
    }
   },
   "outputs": [],
   "source": []
  },
  {
   "cell_type": "code",
   "execution_count": null,
   "metadata": {
    "ExecuteTime": {
     "start_time": "2021-05-22T03:42:18.411Z"
    }
   },
   "outputs": [],
   "source": [
    "np.median(np.abs(uvd_total.data_array) ** 2.) ** .5 / np.median(np.abs(uvd_eor.data_array) ** 2.) ** .5"
   ]
  },
  {
   "cell_type": "code",
   "execution_count": null,
   "metadata": {
    "ExecuteTime": {
     "start_time": "2021-05-22T03:42:18.414Z"
    }
   },
   "outputs": [],
   "source": [
    "fig, axarr = plt.subplots(1, 4)\n",
    "for i, uvt in enumerate([uvd_gsm, uvd_resid, uvd_resid_true, uvd_noise]):\n",
    "    plt.sca(axarr[i])\n",
    "    x, y, ctot = visualization.delay_transform_sort_by_baseline_length(uvt, window='cs11')\n",
    "    xg, yg = np.meshgrid(x, y)\n",
    "    plt.pcolor(xg, yg, np.log10(np.abs(ctot.T)), #extent = [x.min(), x.max(), y.max(), y.min()],\n",
    "               vmin=-2, vmax=3, cmap='inferno')#, interpolation='nearest', aspect='auto', cmap='inferno')\n",
    "    plt.plot(x, x / .3, ls='--', color='w')\n",
    "    plt.plot(x, -x / .3, ls='--', color='w')\n",
    "\n",
    "    plt.xlabel('b (m)')\n",
    "    plt.ylabel('$\\\\tau$ (ns)')\n",
    "    plt.colorbar()\n",
    "    plt.xlim(0, 500)\n",
    "    plt.ylim(-2000, 2000)\n",
    "    plt.xlim()\n",
    "fig.set_size_inches(18, 8)"
   ]
  }
 ],
 "metadata": {
  "kernelspec": {
   "display_name": "Python 3",
   "language": "python",
   "name": "python3"
  },
  "language_info": {
   "codemirror_mode": {
    "name": "ipython",
    "version": 3
   },
   "file_extension": ".py",
   "mimetype": "text/x-python",
   "name": "python",
   "nbconvert_exporter": "python",
   "pygments_lexer": "ipython3",
   "version": "3.8.5"
  }
 },
 "nbformat": 4,
 "nbformat_minor": 2
}
